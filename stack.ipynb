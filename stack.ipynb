{
 "cells": [
  {
   "cell_type": "code",
   "execution_count": 24,
   "id": "d3629b15-548f-4218-9045-1f9c6a600ea4",
   "metadata": {},
   "outputs": [],
   "source": [
    "#Stack using List\n",
    "\n",
    "class Stack_list:\n",
    "    def __init__(self):\n",
    "        self.stack = []\n",
    "\n",
    "    def size(self,stack):\n",
    "        return len(self.stack)\n",
    "        \n",
    "    def __isempty__(self):\n",
    "        return len(self.stack)==0  \n",
    "    \n",
    "    def push(self,val):\n",
    "        self.stack.append(val)\n",
    "        return self.stack \n",
    "    \n",
    "    def pop(self):\n",
    "        if not self.__isempty__():\n",
    "            self.stack.pop()\n",
    "    def print(self):\n",
    "        if not self.__isempty__():\n",
    "            print(self.stack)\n",
    "\n",
    "\n",
    "        \n",
    "    "
   ]
  },
  {
   "cell_type": "code",
   "execution_count": 26,
   "id": "742a2ee4-10d2-467a-9954-fa31767740cd",
   "metadata": {},
   "outputs": [
    {
     "name": "stdout",
     "output_type": "stream",
     "text": [
      "[10, 12, 30, 20]\n"
     ]
    },
    {
     "data": {
      "text/plain": [
       "[10, 12, 30, 20, 34]"
      ]
     },
     "execution_count": 26,
     "metadata": {},
     "output_type": "execute_result"
    }
   ],
   "source": [
    "s = Stack_list()\n",
    "s.push(10)\n",
    "s.push(12)\n",
    "s.push(30)\n",
    "s.push(20)\n",
    "s.push(22)\n",
    "s.pop()\n",
    "s.print()\n",
    "s.push(34)"
   ]
  },
  {
   "cell_type": "code",
   "execution_count": 8,
   "id": "8dbce27a-b808-4456-8fe2-78f734ed3af7",
   "metadata": {},
   "outputs": [],
   "source": [
    "#stack using LL\n",
    "class Node:\n",
    "    def __init__(self,data):\n",
    "        self.data = data\n",
    "        self.next = None\n",
    "    \n",
    "class stack_ll:\n",
    "    def __init__(self):\n",
    "        self.head = None\n",
    "        self.size = 0\n",
    "    def __isempty__(self):\n",
    "        return self.size==0\n",
    "\n",
    "    def push(self, val):\n",
    "        self.newNode = Node(val)\n",
    "        if self.head == None:\n",
    "            self.head = self.newNode \n",
    "        else:\n",
    "            self.newNode.next = self.head \n",
    "            self.head = self.newNode \n",
    "        self.size+=1\n",
    "        return self.head \n",
    "\n",
    "    def pop(self):\n",
    "        if not self.__isempty__():\n",
    "            temp = self.head.data\n",
    "            self.head = self.head.next\n",
    "            self.size -=1\n",
    "            return temp\n",
    "    def print(self):\n",
    "        current = self.head\n",
    "        if not self.__isempty__():\n",
    "            while current:\n",
    "                print(current.data)\n",
    "                current = current.next"
   ]
  },
  {
   "cell_type": "code",
   "execution_count": 10,
   "id": "7e87094e-43e3-43ad-9733-ffe6ccf25c2a",
   "metadata": {},
   "outputs": [
    {
     "name": "stdout",
     "output_type": "stream",
     "text": [
      "34\n",
      "20\n",
      "30\n",
      "12\n",
      "10\n"
     ]
    }
   ],
   "source": [
    "s = stack_ll()\n",
    "s.push(10)\n",
    "s.push(12)\n",
    "s.push(30)\n",
    "s.push(20)\n",
    "s.push(22)\n",
    "s.pop()\n",
    "s.push(34)\n",
    "s.print()\n",
    "\n"
   ]
  },
  {
   "cell_type": "code",
   "execution_count": 12,
   "id": "86dda1fd-50ba-469f-bcaf-c54de544cc85",
   "metadata": {},
   "outputs": [
    {
     "data": {
      "text/plain": [
       "[4, 5, 5, -1]"
      ]
     },
     "execution_count": 12,
     "metadata": {},
     "output_type": "execute_result"
    }
   ],
   "source": [
    "#Next greater element\n",
    "\n",
    "def next_greater(arr,n):\n",
    "    res = [-1 for i in range(n)]\n",
    "    stack = []\n",
    "    for i in range(n-1,-1,-1):\n",
    "        while stack and arr[stack[-1]] < arr[i]:\n",
    "            stack.pop()\n",
    "        if stack:\n",
    "            res[i]= arr[stack[-1]]\n",
    "        stack.append(i)\n",
    "    return res\n",
    "\n",
    "\n",
    "arr = [1,4,2,5]\n",
    "n = 4\n",
    "next_greater(arr,n)"
   ]
  },
  {
   "cell_type": "code",
   "execution_count": 18,
   "id": "34921068-f172-4f51-ac83-16deb0c032e2",
   "metadata": {},
   "outputs": [
    {
     "data": {
      "text/plain": [
       "False"
      ]
     },
     "execution_count": 18,
     "metadata": {},
     "output_type": "execute_result"
    }
   ],
   "source": [
    "#Paranthesis checker\n",
    "\n",
    "\n",
    "def checker(s):\n",
    "    stack = []\n",
    "    pairs = {'{':'}','(':')','[':']'}\n",
    "\n",
    "    for char in s:\n",
    "        if char in pairs:\n",
    "            stack.append(char)\n",
    "        elif char in pairs.values():\n",
    "            if not stack or pairs[stack[-1]] !=  char:\n",
    "                return False\n",
    "            stack.pop()\n",
    "    return not stack\n",
    "\n",
    "varOcg = \"{}([[]\"\n",
    "checker(varOcg)"
   ]
  },
  {
   "cell_type": "code",
   "execution_count": 30,
   "id": "51031ee2-0e0c-4fa9-aa37-6f82530a073e",
   "metadata": {},
   "outputs": [
    {
     "data": {
      "text/plain": [
       "'a'"
      ]
     },
     "execution_count": 30,
     "metadata": {},
     "output_type": "execute_result"
    }
   ],
   "source": [
    "#remove consecutive duplicates\n",
    "\n",
    "def remove_dupllicates(s):\n",
    "    stack = []\n",
    "\n",
    "    for char in s:\n",
    "        if stack and stack[-1] == char: \n",
    "            stack.pop() \n",
    "        else:\n",
    "            stack.append(char)\n",
    "    return ''.join(stack)\n",
    "\n",
    "char = \"abbacca\"\n",
    "remove_dupllicates(char)\n",
    "    "
   ]
  },
  {
   "cell_type": "code",
   "execution_count": 24,
   "id": "78099f3d-d6d7-413a-b3a5-6f377da070eb",
   "metadata": {},
   "outputs": [
    {
     "data": {
      "text/plain": [
       "[1, 1, -1, -1, -1]"
      ]
     },
     "execution_count": 24,
     "metadata": {},
     "output_type": "execute_result"
    }
   ],
   "source": [
    "def next_smaller_elements(arr):\n",
    "    \"\"\"\n",
    "    Function to find the next smaller element for each element in the array.\n",
    "    :param arr: List[int] -> List of integers\n",
    "    :return: List[int] -> List of next smaller elements for each element\n",
    "    \"\"\"\n",
    "    stack = []\n",
    "    res= [-1 for i in range(len(arr))]\n",
    "    \n",
    "    for i in range(len(arr)-1,-1,-1):\n",
    "        while stack and arr[stack[-1]] > arr[i]:\n",
    "            stack.pop()\n",
    "        if stack:\n",
    "            res[i] = arr[stack[-1]]\n",
    "        stack.append(i)\n",
    "    return res \n",
    "arr = [3,5,1,4,54]\n",
    "next_smaller_elements(arr)"
   ]
  },
  {
   "cell_type": "code",
   "execution_count": 32,
   "id": "c3f91591-e11d-413e-8867-422e3716f7e9",
   "metadata": {},
   "outputs": [
    {
     "data": {
      "text/plain": [
       "[5, 4, 3, 2, 1]"
      ]
     },
     "execution_count": 32,
     "metadata": {},
     "output_type": "execute_result"
    }
   ],
   "source": [
    "#reverse array \n",
    "def reverse_array(arr):\n",
    "    stack=[]\n",
    "    n = len(arr)\n",
    "    for i in range(n-1,-1,-1):\n",
    "        stack.append(arr[i])\n",
    "    return stack\n",
    "arr = [1,2,3,4,5]\n",
    "reverse_array(arr)"
   ]
  },
  {
   "cell_type": "code",
   "execution_count": 36,
   "id": "62ffc54c-34e6-4e71-a080-53fec587935b",
   "metadata": {},
   "outputs": [],
   "source": [
    "a =['1 2','3','4']\n",
    "a = [i.split(' ') for i in a]"
   ]
  },
  {
   "cell_type": "code",
   "execution_count": 37,
   "id": "a346aadd-0a5b-4a76-895a-34b9487555cd",
   "metadata": {},
   "outputs": [
    {
     "data": {
      "text/plain": [
       "[['1', '2'], ['3'], ['4']]"
      ]
     },
     "execution_count": 37,
     "metadata": {},
     "output_type": "execute_result"
    }
   ],
   "source": [
    "a"
   ]
  },
  {
   "cell_type": "code",
   "execution_count": 39,
   "id": "be72d367-09ae-4c29-85ac-e69394ed314f",
   "metadata": {},
   "outputs": [
    {
     "data": {
      "text/plain": [
       "'1'"
      ]
     },
     "execution_count": 39,
     "metadata": {},
     "output_type": "execute_result"
    }
   ],
   "source": [
    "a[0][0]"
   ]
  },
  {
   "cell_type": "code",
   "execution_count": 41,
   "id": "7d5eb1c0-cc7c-492c-9689-a5aaa45b18cd",
   "metadata": {},
   "outputs": [
    {
     "name": "stdout",
     "output_type": "stream",
     "text": [
      "5\n"
     ]
    }
   ],
   "source": [
    "def maxSum(stack1, stack2, stack3, n1, n2, n3):\n",
    "    sum_1,sum_2,sum_3 = sum(stack1),sum(stack2),sum(stack3)\n",
    "    top1,top2,top3 = 0,0,0\n",
    "   \n",
    "    while True:\n",
    "        if top1 ==n1 or top2 == n2 or top3 == n3:\n",
    "            return 0\n",
    "        if sum_1 == sum_2 and  sum_2 == sum_3:\n",
    "            return sum_1 \n",
    "        if sum_1 >= sum_2 and sum_1 >= sum_3:\n",
    "            sum_1 -= stack1[top1]\n",
    "            top1 = top1+1\n",
    "        if sum_2 >= sum_1 and sum_2 >= sum_3:\n",
    "            sum_2 -= stack2[top2]\n",
    "            top2 = top2+1\n",
    "        if sum_3 >= sum_1 and sum_3 >= sum_2:\n",
    "            sum_3 -= stack3[top3]\n",
    "            top3 = top3+1\n",
    "        \n",
    "    \n",
    "    \n",
    "\n",
    "\n",
    "\n",
    "stack1 = [3, 2, 1, 1, 1]\n",
    "stack2 = [4, 3, 2]\n",
    "stack3 = [1, 1, 4, 1]\n",
    "\n",
    "n1 = len(stack1)\n",
    "n2 = len(stack2)\n",
    "n3 = len(stack3)\n",
    "\n",
    "print(maxSum(stack1, stack2, stack3, n1, n2, n3))"
   ]
  },
  {
   "cell_type": "code",
   "execution_count": null,
   "id": "9e885d76-f81e-4e35-aec3-2ef6f668c94b",
   "metadata": {},
   "outputs": [],
   "source": []
  }
 ],
 "metadata": {
  "kernelspec": {
   "display_name": "Python 3 (ipykernel)",
   "language": "python",
   "name": "python3"
  },
  "language_info": {
   "codemirror_mode": {
    "name": "ipython",
    "version": 3
   },
   "file_extension": ".py",
   "mimetype": "text/x-python",
   "name": "python",
   "nbconvert_exporter": "python",
   "pygments_lexer": "ipython3",
   "version": "3.11.7"
  }
 },
 "nbformat": 4,
 "nbformat_minor": 5
}
