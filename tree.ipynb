{
 "cells": [
  {
   "cell_type": "code",
   "execution_count": 13,
   "id": "8461eb02-3dac-4147-8cbf-6779244a3216",
   "metadata": {},
   "outputs": [
    {
     "name": "stdout",
     "output_type": "stream",
     "text": [
      "1\n",
      "2\n",
      "5\n"
     ]
    }
   ],
   "source": [
    "class Tree:\n",
    "    def __init__(self,val):\n",
    "        self.data = val \n",
    "        self.left = None\n",
    "        self.right = None \n",
    "\n",
    "root = Tree(1)\n",
    "node1 = Tree(2)\n",
    "node2 = Tree(5)\n",
    "node3 = Tree(3)\n",
    "node4 = Tree(4)\n",
    "node5 = Tree(6)\n",
    "node6 = Tree(7)\n",
    "root.left = node1\n",
    "root.right = node2 \n",
    "node1.left = node3\n",
    "node1.right = node4\n",
    "node2.left = node5\n",
    "node2.right = node6\n",
    "print(root.data)\n",
    "print(root.left.data)\n",
    "print(root.right.data)"
   ]
  },
  {
   "cell_type": "code",
   "execution_count": 18,
   "id": "d9a6f5cb-4b0e-4ee8-864e-cc4771d8580f",
   "metadata": {},
   "outputs": [
    {
     "name": "stdout",
     "output_type": "stream",
     "text": [
      "1 2 3 4 5 6 7 "
     ]
    }
   ],
   "source": [
    "def preordertraversal(node):\n",
    "    if node == None:\n",
    "        return \n",
    "    print(node.data,end = \" \")\n",
    "    preordertraversal(node.left)\n",
    "    preordertraversal(node.right)\n",
    "preordertraversal(root)"
   ]
  },
  {
   "cell_type": "code",
   "execution_count": 20,
   "id": "c70b1ed3-e529-4fa4-becd-689bda19f71a",
   "metadata": {},
   "outputs": [
    {
     "name": "stdout",
     "output_type": "stream",
     "text": [
      "3 4 2 6 7 5 1 "
     ]
    }
   ],
   "source": [
    "def postorder(node):\n",
    "    if node == None:\n",
    "        return\n",
    "    postorder(node.left)\n",
    "    postorder(node.right)\n",
    "    print(node.data,end = \" \")\n",
    "postorder(root)"
   ]
  },
  {
   "cell_type": "code",
   "execution_count": 21,
   "id": "7abdf66d-807a-48af-9cae-dd1866c93721",
   "metadata": {},
   "outputs": [
    {
     "name": "stdout",
     "output_type": "stream",
     "text": [
      "3 2 4 1 6 5 7 "
     ]
    }
   ],
   "source": [
    "def inorder(node):\n",
    "    if node == None:\n",
    "        return \n",
    "    inorder(node.left)\n",
    "    print(node.data,end = \" \")\n",
    "    inorder(node.right)\n",
    "\n",
    "inorder(root)"
   ]
  },
  {
   "cell_type": "code",
   "execution_count": null,
   "id": "97aa0010-3a9b-4254-8df4-ad6b920c2ac5",
   "metadata": {},
   "outputs": [],
   "source": []
  }
 ],
 "metadata": {
  "kernelspec": {
   "display_name": "Python 3 (ipykernel)",
   "language": "python",
   "name": "python3"
  },
  "language_info": {
   "codemirror_mode": {
    "name": "ipython",
    "version": 3
   },
   "file_extension": ".py",
   "mimetype": "text/x-python",
   "name": "python",
   "nbconvert_exporter": "python",
   "pygments_lexer": "ipython3",
   "version": "3.11.7"
  }
 },
 "nbformat": 4,
 "nbformat_minor": 5
}
