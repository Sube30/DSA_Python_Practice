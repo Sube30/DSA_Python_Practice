{
 "cells": [
  {
   "cell_type": "code",
   "execution_count": 1,
   "id": "c1bd338c-dd3a-49fe-81b9-0409e526aa71",
   "metadata": {},
   "outputs": [
    {
     "data": {
      "text/plain": [
       "120"
      ]
     },
     "execution_count": 1,
     "metadata": {},
     "output_type": "execute_result"
    }
   ],
   "source": [
    "def factorial(n):\n",
    "    \n",
    "    if n ==1 or n==0:\n",
    "        return 1\n",
    "    return n * factorial(n-1)\n",
    "\n",
    "factorial(5)\n"
   ]
  },
  {
   "cell_type": "code",
   "execution_count": 4,
   "id": "8d8e3cb3-11d6-4552-be4b-ae74d9781536",
   "metadata": {},
   "outputs": [
    {
     "data": {
      "text/plain": [
       "55"
      ]
     },
     "execution_count": 4,
     "metadata": {},
     "output_type": "execute_result"
    }
   ],
   "source": [
    "def sum_of_n_numbers(n):\n",
    "    if n == 0:\n",
    "        return 0 \n",
    "    return n + sum_of_n_numbers(n-1)\n",
    "\n",
    "\n",
    "\n",
    "sum_of_n_numbers(10)"
   ]
  },
  {
   "cell_type": "code",
   "execution_count": 6,
   "id": "3039aadb-a3a6-41d9-92c1-8f16061fdc1f",
   "metadata": {},
   "outputs": [
    {
     "data": {
      "text/plain": [
       "6"
      ]
     },
     "execution_count": 6,
     "metadata": {},
     "output_type": "execute_result"
    }
   ],
   "source": [
    "def number_digits(n):\n",
    "    if n == 0 or n <= 9:\n",
    "        return 1 \n",
    "    \n",
    "    return 1 + number_digits(n/10) \n",
    "\n",
    "number_digits(125333)"
   ]
  },
  {
   "cell_type": "code",
   "execution_count": 8,
   "id": "5b86bce0-0706-4c56-85e7-57d4d3b1d18c",
   "metadata": {},
   "outputs": [
    {
     "data": {
      "text/plain": [
       "55"
      ]
     },
     "execution_count": 8,
     "metadata": {},
     "output_type": "execute_result"
    }
   ],
   "source": [
    "def fibonaaci(n):\n",
    "    if n == 0:\n",
    "        return 0 \n",
    "    elif n == 1:\n",
    "        return 1\n",
    "    return fibonaaci(n-1) + fibonaaci(n-2)\n",
    "  \n",
    "fibonaaci(10)"
   ]
  },
  {
   "cell_type": "code",
   "execution_count": 13,
   "id": "9dcc73c7-5039-488a-ba22-14d7b3601631",
   "metadata": {},
   "outputs": [
    {
     "data": {
      "text/plain": [
       "[0, 1, 2, 3, 4, 5, 6, 7, 8, 9, 10]"
      ]
     },
     "execution_count": 13,
     "metadata": {},
     "output_type": "execute_result"
    }
   ],
   "source": [
    "def count_to_n(n):\n",
    "    \"\"\"\n",
    "    Function to return a list of integers from 1 to n using recursion.\n",
    "    \n",
    "    Parameters:\n",
    "    n (int): The positive integer representing the upper limit of the range.\n",
    "    \n",
    "    Returns:\n",
    "    list: A list of integers from 1 to n.\n",
    "    \"\"\"\n",
    "    if n == 0:\n",
    "        return [0]\n",
    "    return  count_to_n(n-1) + [n]\n",
    " \n",
    "count_to_n(10)"
   ]
  },
  {
   "cell_type": "code",
   "execution_count": 18,
   "id": "8af8dc81-f0d0-4363-bbb1-ae46e60b8e24",
   "metadata": {},
   "outputs": [
    {
     "data": {
      "text/plain": [
       "[10, 9, 8, 7, 6, 5, 4, 3, 2, 1, 0]"
      ]
     },
     "execution_count": 18,
     "metadata": {},
     "output_type": "execute_result"
    }
   ],
   "source": [
    "def n_to_one(n):\n",
    "     if n == 0:\n",
    "        return [0]\n",
    "     return [n] + n_to_one(n-1)\n",
    "n_to_one(10)"
   ]
  },
  {
   "cell_type": "code",
   "execution_count": 20,
   "id": "196283c9-7412-4ccb-ba2e-609faf664757",
   "metadata": {},
   "outputs": [
    {
     "data": {
      "text/plain": [
       "False"
      ]
     },
     "execution_count": 20,
     "metadata": {},
     "output_type": "execute_result"
    }
   ],
   "source": [
    "def is_sorted(lst):\n",
    "    \n",
    "    lst1 = lst.copy()\n",
    "    if len(lst) != len(lst1):\n",
    "        return False \n",
    "    return True if sorted(lst1) == lst else False\n",
    "    \n",
    "  \n",
    "\n",
    "\n",
    "\n",
    "lst = [1,1,6,4]\n",
    "is_sorted(lst)"
   ]
  },
  {
   "cell_type": "code",
   "execution_count": 21,
   "id": "0a12c6d0-ea01-46a7-b1c1-f8d2cf4b6dfe",
   "metadata": {},
   "outputs": [
    {
     "data": {
      "text/plain": [
       "15"
      ]
     },
     "execution_count": 21,
     "metadata": {},
     "output_type": "execute_result"
    }
   ],
   "source": [
    "def recursive_sum(arr):\n",
    "    \"\"\"\n",
    "    Function to calculate the sum of an array using recursion.\n",
    "    \n",
    "    Parameters:\n",
    "    arr (list of int): The array of integers.\n",
    "    \n",
    "    Returns:\n",
    "    int: The sum of the array elements.\n",
    "    \"\"\"\n",
    "    if len(arr) == 0:\n",
    "        return 0 \n",
    "  \n",
    "    return arr[0] + recursive_sum(arr[1:])\n",
    " \n",
    "\n",
    "arr = [1, 2, 3, 4, 5]\n",
    "recursive_sum(arr)"
   ]
  },
  {
   "cell_type": "code",
   "execution_count": 30,
   "id": "82f5d86b-016b-41a0-966c-196ffdd0e5a8",
   "metadata": {},
   "outputs": [
    {
     "data": {
      "text/plain": [
       "7"
      ]
     },
     "execution_count": 30,
     "metadata": {},
     "output_type": "execute_result"
    }
   ],
   "source": [
    "#first index\n",
    "\n",
    "def last_index(arr,x):\n",
    "    if len(arr) == 0:\n",
    "        return -1 \n",
    "    \n",
    "    if arr[-1] == x:\n",
    "        return len(arr) -1\n",
    "    sub_case = last_index(arr[:-1],x) \n",
    "\n",
    "    return sub_case+1\n",
    " \n",
    "       \n",
    "        \n",
    "\n",
    "arr = [1, 2, 3, 4, 3,4,3,5]\n",
    "last_index(arr,3)"
   ]
  },
  {
   "cell_type": "code",
   "execution_count": 33,
   "id": "2eb262b0-a984-42cc-a3ff-a0db18910f6b",
   "metadata": {},
   "outputs": [
    {
     "data": {
      "text/plain": [
       "[2, 4, 6]"
      ]
     },
     "execution_count": 33,
     "metadata": {},
     "output_type": "execute_result"
    }
   ],
   "source": [
    "def find_indices(arr, element, start= 0):\n",
    "    \"\"\"\n",
    "    Function to find all indices of a given element in an array using recursion.\n",
    "    \n",
    "    Parameters:\n",
    "    arr (list of int): The array to search through.\n",
    "    element (int): The element to find.\n",
    "    \n",
    "    Returns:\n",
    "    list of int: A list containing all indices of the element in the array.\n",
    "    \"\"\"\n",
    "    if len(arr) == 0:\n",
    "        return []\n",
    "    res = [] \n",
    "    if arr[0] == element:\n",
    "        res.append(start)\n",
    "    res += find_indices(arr[1:],element,start+1) \n",
    "\n",
    "    return res\n",
    "   \n",
    "\n",
    "arr = [1, 2, 3, 4, 3,4,3,5]\n",
    "find_indices(arr,3)    \n"
   ]
  },
  {
   "cell_type": "code",
   "execution_count": 25,
   "id": "9e508174-8ed4-4971-8a9b-958bdccea16f",
   "metadata": {},
   "outputs": [
    {
     "data": {
      "text/plain": [
       "[2, 4, 6]"
      ]
     },
     "execution_count": 25,
     "metadata": {},
     "output_type": "execute_result"
    }
   ],
   "source": [
    "def find_indices(arr,x):\n",
    "\n",
    "  \n",
    "arr = [1, 2, 3, 4, 3,4,3,5]\n",
    "find_indices(arr,3)    \n",
    " "
   ]
  },
  {
   "cell_type": "code",
   "execution_count": 22,
   "id": "7cdf958f-803c-454b-9d3d-793c5276e215",
   "metadata": {},
   "outputs": [
    {
     "data": {
      "text/plain": [
       "[1, 2, 5, 5, 6, 8, 8, 9]"
      ]
     },
     "execution_count": 22,
     "metadata": {},
     "output_type": "execute_result"
    }
   ],
   "source": [
    "def merge(arr,start,mid,end):\n",
    "    n1 = mid - start + 1\n",
    "    n2 = end - mid \n",
    "\n",
    "    L = [0] * n1 \n",
    "    R = [0] * n2 \n",
    "\n",
    "    for i in range(n1):\n",
    "        L[i] = arr[start+i] \n",
    "    for j in range(n2):\n",
    "        R[j] = arr[mid+1+j]\n",
    "\n",
    "    i = 0\n",
    "    j = 0\n",
    "    k = start\n",
    "    while i < n1 and j <n2:\n",
    "        if L[i] < R[j]:\n",
    "            arr[k] = L[i]\n",
    "            i += 1\n",
    "        else:\n",
    "            arr[k] = R[j]\n",
    "            j += 1\n",
    "        k += 1\n",
    "    while i < n1:\n",
    "        arr[k] = L[i]\n",
    "        i += 1\n",
    "        k += 1\n",
    "    while j < n2:\n",
    "        arr[k] = R[j]\n",
    "        j += 1\n",
    "        k += 1\n",
    "    return arr\n",
    "\n",
    "\n",
    "def merge_sort1(arr,left,right):\n",
    "    mid = left + (right - left) //2 \n",
    "    if left < right:\n",
    "        merge_sort1(arr,left,mid)\n",
    "        merge_sort1(arr,mid+1,right)\n",
    "        merge(arr,left,mid,right)\n",
    "    return arr\n",
    "\n",
    "            \n",
    "def merge_sort(arr):\n",
    "    left = 0\n",
    "    right = len(arr)-1\n",
    "    merge_sort1(arr, left,right)\n",
    "    return arr\n",
    "\n",
    "\n",
    "\n",
    "\n",
    "arr = [5, 2, 9, 1, 5,8,8, 6] \n",
    "merge_sort(arr)"
   ]
  },
  {
   "cell_type": "code",
   "execution_count": 24,
   "id": "901326c9-a43f-4d05-95e1-f4c32c4b1ee4",
   "metadata": {},
   "outputs": [
    {
     "data": {
      "text/plain": [
       "[1, 2, 5, 5, 6, 8, 8, 9]"
      ]
     },
     "execution_count": 24,
     "metadata": {},
     "output_type": "execute_result"
    }
   ],
   "source": [
    "def swap(arr,i,j):\n",
    "    arr[i],arr[j] = arr[j], arr[i]\n",
    "def partition(arr, start, end):\n",
    "    pivot = arr[end]\n",
    "    i = start - 1\n",
    "    j = start\n",
    "\n",
    "    for j in range(start,end):\n",
    "        if arr[j] < pivot:\n",
    "            i += 1 \n",
    "            swap(arr,i,j)\n",
    "    swap(arr,i+1,end)\n",
    "        \n",
    "    return i +1\n",
    "    \n",
    "\n",
    "\n",
    "\n",
    "def quicksort(arr,start,end):\n",
    "    if start < end:\n",
    "        pi = partition(arr,start,end)\n",
    "        quicksort(arr, start, pi-1)\n",
    "        quicksort(arr, pi+1, end)\n",
    "    return arr\n",
    "        \n",
    "\n",
    "\n",
    "arr = [5, 2, 9, 1, 5,8,8, 6]\n",
    "quicksort(arr,0,len(arr)-1)"
   ]
  },
  {
   "cell_type": "code",
   "execution_count": null,
   "id": "aedc4364-2d71-4f4e-b2cd-cd65caad35d1",
   "metadata": {},
   "outputs": [],
   "source": []
  }
 ],
 "metadata": {
  "kernelspec": {
   "display_name": "Python 3 (ipykernel)",
   "language": "python",
   "name": "python3"
  },
  "language_info": {
   "codemirror_mode": {
    "name": "ipython",
    "version": 3
   },
   "file_extension": ".py",
   "mimetype": "text/x-python",
   "name": "python",
   "nbconvert_exporter": "python",
   "pygments_lexer": "ipython3",
   "version": "3.10.12"
  }
 },
 "nbformat": 4,
 "nbformat_minor": 5
}
