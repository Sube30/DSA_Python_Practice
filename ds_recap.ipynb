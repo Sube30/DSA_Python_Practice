{
 "cells": [
  {
   "cell_type": "markdown",
   "id": "958a3001",
   "metadata": {},
   "source": [
    "# max_consecutive_difference"
   ]
  },
  {
   "cell_type": "code",
   "execution_count": null,
   "id": "f2bafd9a",
   "metadata": {},
   "outputs": [],
   "source": [
    "\n",
    "def max_consecutive_difference(lst):\n",
    "    max_diff = 0\n",
    "    for i in range(1,len(lst)):\n",
    "        current_diff = abs(lst[i-1] - lst[i])\n",
    "        if current_diff > max_diff:\n",
    "            max_diff = max(current_diff, max_diff)\n",
    "    return max_diff\n",
    "\n",
    "\n",
    "\n",
    "lst = [1, 7, 3, 10, 5]\n",
    "max_consecutive_difference(lst)\n"
   ]
  },
  {
   "cell_type": "markdown",
   "id": "7f078822",
   "metadata": {},
   "source": [
    "# rotate list"
   ]
  },
  {
   "cell_type": "code",
   "execution_count": 9,
   "id": "b13d82bf-153e-47d4-b2d6-1ab39c044c18",
   "metadata": {},
   "outputs": [
    {
     "data": {
      "text/plain": [
       "[4, 5, 1, 2, 3]"
      ]
     },
     "execution_count": 9,
     "metadata": {},
     "output_type": "execute_result"
    }
   ],
   "source": [
    "\n",
    "def rotate_list(lst, k):\n",
    "    n = len(lst)\n",
    "    if len(lst) == 0:\n",
    "        return lst \n",
    "    k = k % n\n",
    "    reverse(lst,0,n-k-1)\n",
    "    reverse(lst,n-k,n-1)\n",
    "    reverse(lst,0,n-1)\n",
    "    return lst \n",
    "\n",
    "def reverse(lst,start,end):\n",
    "    while start < end:\n",
    "        lst[start], lst[end] = lst[end], lst[start]\n",
    "        start +=1\n",
    "        end -= 1\n",
    "        \n",
    "    \n",
    "    \n",
    "\n",
    "\n",
    "\n",
    "\n",
    "lst = [1, 2, 3, 4, 5]\n",
    "k = 2\n",
    "rotate_list(lst,2)"
   ]
  },
  {
   "cell_type": "markdown",
   "id": "cacf075a",
   "metadata": {},
   "source": [
    "# Create Dictionary fromm list"
   ]
  },
  {
   "cell_type": "code",
   "execution_count": 10,
   "id": "a6bff9e1-124e-476a-b8f1-e9be7cf6ffb7",
   "metadata": {},
   "outputs": [
    {
     "name": "stdout",
     "output_type": "stream",
     "text": [
      "{'a': 1, 'b': 2, 'c': 3}\n"
     ]
    }
   ],
   "source": [
    "keys = ['a', 'b', 'c']\n",
    "values = [1, 2, 3]\n",
    "dict = {}\n",
    "for k,v in zip(keys,values):\n",
    "    dict[k] = v\n",
    "print(dict)"
   ]
  },
  {
   "cell_type": "markdown",
   "id": "12bee4fb",
   "metadata": {},
   "source": [
    "# Merge Dictionary"
   ]
  },
  {
   "cell_type": "code",
   "execution_count": 14,
   "id": "45a9ba18-442c-453c-b0d4-2f3c5c53ebbd",
   "metadata": {},
   "outputs": [
    {
     "name": "stdout",
     "output_type": "stream",
     "text": [
      "{'a': 1, 'b': 2, 'c': 3, 'd': 4, 'e': 5, 'f': 6}\n"
     ]
    }
   ],
   "source": [
    "dict1 = {'a': 1, 'b': 2}\n",
    "dict2 = {'c': 3, 'd': 4}\n",
    "dict3 = {'e': 5, 'f': 6}\n",
    "\n",
    "dict1.update(dict2)\n",
    "dict1.update(dict3)\n",
    "print(dict1)"
   ]
  },
  {
   "cell_type": "markdown",
   "id": "891ba43b",
   "metadata": {},
   "source": [
    "# Word Frequency"
   ]
  },
  {
   "cell_type": "code",
   "execution_count": 17,
   "id": "3eca35b7-ddae-49e8-a6ab-904388573419",
   "metadata": {},
   "outputs": [
    {
     "name": "stdout",
     "output_type": "stream",
     "text": [
      "{'hello': 2, 'world': 1}\n"
     ]
    }
   ],
   "source": [
    "s = \"hello world hello\"\n",
    "s = s.split()\n",
    "count = {}\n",
    "for words in s:\n",
    "    count[words] = count.get(words,0)+1\n",
    "print(count)\n",
    "    "
   ]
  },
  {
   "cell_type": "markdown",
   "id": "9428506c",
   "metadata": {},
   "source": [
    "# Merged Dict"
   ]
  },
  {
   "cell_type": "code",
   "execution_count": 20,
   "id": "dc070d59-d255-4e43-9805-7a9d3441105a",
   "metadata": {},
   "outputs": [
    {
     "name": "stdout",
     "output_type": "stream",
     "text": [
      "{'a': 1, 'b': 5, 'c': 9, 'd': 6}\n"
     ]
    }
   ],
   "source": [
    "\n",
    "dict = [{'a': 1, 'b': 2}, {'b': 3, 'c': 4}, {'c': 5, 'd': 6}] \n",
    "\n",
    "merged_dict = {}\n",
    "\n",
    "for items in dict:\n",
    "    for k,v in items.items():\n",
    "        merged_dict[k] = merged_dict.get(k,0)+v \n",
    "\n",
    "print(merged_dict)"
   ]
  },
  {
   "cell_type": "markdown",
   "id": "77050af5",
   "metadata": {},
   "source": [
    "# Prime Number"
   ]
  },
  {
   "cell_type": "code",
   "execution_count": 23,
   "id": "8dc798bf-4f81-4c57-b265-6014be41a0d5",
   "metadata": {},
   "outputs": [
    {
     "data": {
      "text/plain": [
       "True"
      ]
     },
     "execution_count": 23,
     "metadata": {},
     "output_type": "execute_result"
    }
   ],
   "source": [
    "def prime_number(num):\n",
    "    if num <= 0:\n",
    "        return False \n",
    "    if num <=3:\n",
    "        return True \n",
    "    i = 5\n",
    "\n",
    "    while i * i <= num:\n",
    "        if num % i == 0 or num % (i+2) ==0:\n",
    "            return False\n",
    "        i += 6\n",
    "    return True\n",
    "\n",
    "\n",
    "\n",
    "num = 11\n",
    "prime_number(num)"
   ]
  },
  {
   "cell_type": "markdown",
   "id": "8fc5c02a",
   "metadata": {},
   "source": [
    "# Int to binary"
   ]
  },
  {
   "cell_type": "code",
   "execution_count": 27,
   "id": "323ac5a1-3518-444f-850a-fd0d9cd77598",
   "metadata": {},
   "outputs": [
    {
     "data": {
      "text/plain": [
       "6"
      ]
     },
     "execution_count": 27,
     "metadata": {},
     "output_type": "execute_result"
    }
   ],
   "source": [
    "a = 11\n",
    "bin(a)\n",
    "int('0b110', 2)"
   ]
  },
  {
   "cell_type": "markdown",
   "id": "ed96d180",
   "metadata": {},
   "source": [
    "# Reverse String"
   ]
  },
  {
   "cell_type": "code",
   "execution_count": 30,
   "id": "8651a0da-574f-4fc9-903e-de4e9737d19d",
   "metadata": {},
   "outputs": [
    {
     "name": "stdout",
     "output_type": "stream",
     "text": [
      "ooolleh\n"
     ]
    }
   ],
   "source": [
    "s = \"hellooo\"\n",
    "reverse_str = \"\"\n",
    "for i in range(len(s)-1,-1,-1):\n",
    "    reverse_str +=  reverse_str.join(s[i])\n",
    "print(reverse_str)\n",
    "    "
   ]
  },
  {
   "cell_type": "markdown",
   "id": "13960d1a",
   "metadata": {},
   "source": [
    "# Count Vowels"
   ]
  },
  {
   "cell_type": "code",
   "execution_count": 31,
   "id": "df3edd4c-287e-4be6-9709-2e26a6854165",
   "metadata": {},
   "outputs": [
    {
     "name": "stdout",
     "output_type": "stream",
     "text": [
      "5\n"
     ]
    }
   ],
   "source": [
    "s = \"helloooo\"\n",
    "\n",
    "vowels = ['a','e','i','o','u']\n",
    "count = 0\n",
    "for char in s:\n",
    "    if char.lower() in vowels:\n",
    "        count+=1\n",
    "print(count)"
   ]
  },
  {
   "cell_type": "markdown",
   "id": "7652e686",
   "metadata": {},
   "source": [
    "# Palindrome"
   ]
  },
  {
   "cell_type": "code",
   "execution_count": 37,
   "id": "1c03782f-c9a2-4d13-8323-690853e98b13",
   "metadata": {},
   "outputs": [
    {
     "data": {
      "text/plain": [
       "True"
      ]
     },
     "execution_count": 37,
     "metadata": {},
     "output_type": "execute_result"
    }
   ],
   "source": [
    "s1 = \"oooolleh\"\n",
    "\n",
    "sorted(s1)==sorted(s)"
   ]
  },
  {
   "cell_type": "code",
   "execution_count": 44,
   "id": "17791051-022c-448e-ac53-5f5b7a61939d",
   "metadata": {},
   "outputs": [
    {
     "data": {
      "text/plain": [
       "True"
      ]
     },
     "execution_count": 44,
     "metadata": {},
     "output_type": "execute_result"
    }
   ],
   "source": [
    "def is_palindrome(s):\n",
    "    mod_s = ''.join(char.lower() for char in s if char.isalpha())\n",
    "    start = 0\n",
    "    end = len(mod_s) - 1\n",
    "    for i in range(len(mod_s)):\n",
    "        while start <= end:\n",
    "            if mod_s[start] != mod_s[end]:\n",
    "                return False\n",
    "            start +=1\n",
    "            end -=1\n",
    "    return True \n",
    "\n",
    "s = \"A man a plan a canal Panama\"\n",
    "is_palindrome(s)"
   ]
  },
  {
   "cell_type": "markdown",
   "id": "87467d77",
   "metadata": {},
   "source": [
    "# Maximum letter in a word"
   ]
  },
  {
   "cell_type": "code",
   "execution_count": 66,
   "id": "956211e2-ea40-4d7a-add0-cf2035bd3e9e",
   "metadata": {},
   "outputs": [
    {
     "name": "stdout",
     "output_type": "stream",
     "text": [
      "6\n"
     ]
    }
   ],
   "source": [
    "s = \"A man a plan a canal Panama\"\n",
    "max_word = 0\n",
    "for words in s.split():\n",
    "    word_count = 0\n",
    "    for char in words:\n",
    "        \n",
    "        word_count+=1\n",
    "        max_word = max(word_count,max_word)\n",
    "print(max_word)"
   ]
  },
  {
   "cell_type": "markdown",
   "id": "fc80d5ef",
   "metadata": {},
   "source": [
    "# Remove Duplicates"
   ]
  },
  {
   "cell_type": "code",
   "execution_count": 55,
   "id": "b5495f00-a2c9-451a-9fcc-beda9bd38adb",
   "metadata": {},
   "outputs": [
    {
     "name": "stdout",
     "output_type": "stream",
     "text": [
      "helo\n"
     ]
    }
   ],
   "source": [
    "s = \"hello\"\n",
    "from collections import OrderedDict\n",
    "\n",
    "key = OrderedDict.fromkeys(s)\n",
    "print(\"\".join(key))"
   ]
  },
  {
   "cell_type": "markdown",
   "id": "51d9bca8",
   "metadata": {},
   "source": [
    "# Check subsequence"
   ]
  },
  {
   "cell_type": "code",
   "execution_count": 61,
   "id": "de26f614-3ae0-4bed-9dd9-a3ee1c365fae",
   "metadata": {},
   "outputs": [
    {
     "data": {
      "text/plain": [
       "True"
      ]
     },
     "execution_count": 61,
     "metadata": {},
     "output_type": "execute_result"
    }
   ],
   "source": [
    "\n",
    "def check_subsequence(s,t):\n",
    "\n",
    "    n = len(s)\n",
    "    m = len(t)\n",
    "    \n",
    "    i = 0\n",
    "    j = 0\n",
    "\n",
    "    while i < n and j < m:\n",
    "        if s[i] == t[j]:\n",
    "            j +=1\n",
    "        i+=1\n",
    "        \n",
    "    return True if m==j else False\n",
    "\n",
    "s = \"abcde\"\n",
    "t = \"ace\"\n",
    "check_subsequence(s,t)"
   ]
  },
  {
   "cell_type": "code",
   "execution_count": 63,
   "id": "da5ea2f7-2c82-4098-bfe5-626404ff10f8",
   "metadata": {},
   "outputs": [
    {
     "name": "stdout",
     "output_type": "stream",
     "text": [
      "True\n"
     ]
    }
   ],
   "source": [
    "s = \"abcde\"\n",
    "t = \"abc\"\n",
    "\n",
    "if t in s:\n",
    "     print(True)"
   ]
  },
  {
   "cell_type": "markdown",
   "id": "8095983d",
   "metadata": {},
   "source": [
    "# Linear Search"
   ]
  },
  {
   "cell_type": "code",
   "execution_count": 68,
   "id": "7c658f51-b2a9-42e5-9b48-2bbd9b5ac037",
   "metadata": {},
   "outputs": [
    {
     "data": {
      "text/plain": [
       "-1"
      ]
     },
     "execution_count": 68,
     "metadata": {},
     "output_type": "execute_result"
    }
   ],
   "source": [
    "#linear search\n",
    "\n",
    "def linear_search(arr, target):\n",
    "    for x in range(len(arr)):\n",
    "        if arr[x] == target:\n",
    "            return x\n",
    "    return -1 \n",
    "\n",
    "arr = [1,4,2,5,6]\n",
    "target = 8\n",
    "linear_search(arr,target)"
   ]
  },
  {
   "cell_type": "markdown",
   "id": "c5d3684f",
   "metadata": {},
   "source": [
    "# Binary Search"
   ]
  },
  {
   "cell_type": "code",
   "execution_count": 73,
   "id": "6e234871-32fa-4733-8e91-137c857b9081",
   "metadata": {},
   "outputs": [
    {
     "data": {
      "text/plain": [
       "2"
      ]
     },
     "execution_count": 73,
     "metadata": {},
     "output_type": "execute_result"
    }
   ],
   "source": [
    "def binary_search(arr, target):\n",
    "    arr.sort()\n",
    "    start = 0\n",
    "    end = len(arr) - 1\n",
    "    while start <= end:\n",
    "        mid = (start + (end-start)) // 2\n",
    "        if arr[mid] == target:\n",
    "            return mid \n",
    "        elif arr[mid] < target:\n",
    "            start = mid+1\n",
    "        else:\n",
    "            end = mid -1 \n",
    "   \n",
    "    return -1 \n",
    "\n",
    "arr = [1,4,2,5,6]\n",
    "target = 4\n",
    "binary_search(arr,target)"
   ]
  },
  {
   "cell_type": "markdown",
   "id": "b259db47",
   "metadata": {},
   "source": [
    "# Bubble Sort"
   ]
  },
  {
   "cell_type": "code",
   "execution_count": 78,
   "id": "813a8e27-bf39-49a3-b09b-a90291f217f9",
   "metadata": {},
   "outputs": [
    {
     "data": {
      "text/plain": [
       "[1, 2, 4, 5, 6]"
      ]
     },
     "execution_count": 78,
     "metadata": {},
     "output_type": "execute_result"
    }
   ],
   "source": [
    "def bubble_sort(arr):\n",
    "    for passes in range(0,len(arr)):\n",
    "        for ele in range(0,len(arr)-1):\n",
    "            if arr[ele] > arr[ele+1]:\n",
    "                arr[ele],arr[ele+1] = arr[ele+1], arr[ele]\n",
    "\n",
    "    return arr\n",
    "\n",
    "arr = [1,4,2,5,6]\n",
    "bubble_sort(arr)"
   ]
  },
  {
   "cell_type": "markdown",
   "id": "f39a2a37",
   "metadata": {},
   "source": [
    "# Selection sort"
   ]
  },
  {
   "cell_type": "code",
   "execution_count": 79,
   "id": "450a15b0-854f-40c9-8f7d-8746cd6042a0",
   "metadata": {},
   "outputs": [
    {
     "data": {
      "text/plain": [
       "[1, 2, 4, 5, 6]"
      ]
     },
     "execution_count": 79,
     "metadata": {},
     "output_type": "execute_result"
    }
   ],
   "source": [
    "def selection_sort(arr):\n",
    "    for i in range(0,len(arr)):\n",
    "        min_index = i \n",
    "        for j in range(i, len(arr)):\n",
    "            if arr[min_index] > arr[j]:\n",
    "                arr[min_index],arr[j] = arr[j], arr[min_index]\n",
    "    return arr \n",
    "arr = [1,4,2,5,6]\n",
    "selection_sort(arr)"
   ]
  },
  {
   "cell_type": "markdown",
   "id": "c011acf7",
   "metadata": {},
   "source": [
    "# count negative numbers in a sorted matrix "
   ]
  },
  {
   "cell_type": "code",
   "execution_count": 81,
   "id": "b8418cbc-9bc3-46de-bfc6-3ba817de5267",
   "metadata": {},
   "outputs": [
    {
     "name": "stdout",
     "output_type": "stream",
     "text": [
      "7\n"
     ]
    }
   ],
   "source": [
    "# Linear Search\n",
    "\n",
    "grid = [[4, 3, 2, 1], [3, 2, 1, -1], [1, 1, -1, -2], [-1, -1, -2, -3]] \n",
    "count = 0\n",
    "for i in range(len(grid)):\n",
    "    for j in range(len(grid[0])):\n",
    "        if grid[i][j] < 0:\n",
    "            count+=1 \n",
    "print(count)"
   ]
  },
  {
   "cell_type": "code",
   "execution_count": 7,
   "id": "8796db2d-5240-424d-827e-911b3c2703bf",
   "metadata": {},
   "outputs": [
    {
     "name": "stdout",
     "output_type": "stream",
     "text": [
      "7\n"
     ]
    }
   ],
   "source": [
    "# Binary Search\n",
    "def row(row):\n",
    "        start = 0\n",
    "        end = len(row)\n",
    "       \n",
    "        while start < end:\n",
    "            mid = start + (end-start)//2 \n",
    "            if row[mid] < 0:\n",
    "                end = mid  \n",
    "            else:\n",
    "                start = mid + 1\n",
    "        return len(row) - start\n",
    "        \n",
    "def count_negatives(grid):\n",
    "    count = 0\n",
    "    for i in grid:\n",
    "        count += row(i)\n",
    "    print(count) \n",
    "grid = [[4, 3, 2, 1], [3, 2, 1, -1], [1, 1, -1, -2], [-1, -1, -2, -3]] \n",
    "count_negatives(grid)"
   ]
  },
  {
   "cell_type": "markdown",
   "id": "4ac369be",
   "metadata": {},
   "source": [
    "# Smallest letter"
   ]
  },
  {
   "cell_type": "code",
   "execution_count": 17,
   "id": "fb8488cc-b5fa-4614-875c-84590f3b6af3",
   "metadata": {},
   "outputs": [
    {
     "data": {
      "text/plain": [
       "'f'"
      ]
     },
     "execution_count": 17,
     "metadata": {},
     "output_type": "execute_result"
    }
   ],
   "source": [
    "def smallest_letter(arr,target):\n",
    "        start = 0\n",
    "        end = len(arr)\n",
    "       \n",
    "        while start < end:\n",
    "            mid = start + (end-start)//2 \n",
    "            if arr[mid] > target:\n",
    "                end = mid  \n",
    "            else:\n",
    "                start = mid + 1\n",
    "        return arr[start % len(arr)]\n",
    "\n",
    "arr = ['c', 'f', 'j']\n",
    "target = 'c'\n",
    "smallest_letter(arr,target)\n"
   ]
  },
  {
   "cell_type": "markdown",
   "id": "8aaf59bc",
   "metadata": {},
   "source": [
    "# First Index and last index"
   ]
  },
  {
   "cell_type": "code",
   "execution_count": 38,
   "id": "d1c3ac1a-ec90-496c-811e-99f47ac7da9b",
   "metadata": {},
   "outputs": [
    {
     "data": {
      "text/plain": [
       "[3, 4]"
      ]
     },
     "execution_count": 38,
     "metadata": {},
     "output_type": "execute_result"
    }
   ],
   "source": [
    "def occurance(nums,target):\n",
    "    def first():\n",
    "            start = 0\n",
    "            end = len(nums)-1\n",
    "            first_index = -1\n",
    "            while start <= end:\n",
    "                mid = start + (end-start)//2 \n",
    "                if nums[mid] == target:\n",
    "                    first_index = mid\n",
    "                    end = mid -1\n",
    "                elif nums[mid] > target:\n",
    "                    end = mid -1\n",
    "                else:\n",
    "                    start = mid + 1\n",
    "            return first_index\n",
    "    \n",
    "    def second():\n",
    "           \n",
    "            start = 0\n",
    "            end = len(nums)-1\n",
    "            last_index = -1\n",
    "            while start <= end:\n",
    "                mid = start + (end-start)//2 \n",
    "                if nums[mid] == target:\n",
    "                    last_index = mid\n",
    "                    start = mid + 1\n",
    "                    \n",
    "                elif nums[mid] > target:\n",
    "                    end = mid -1\n",
    "                else:\n",
    "                    start = mid + 1\n",
    "            return last_index\n",
    "    index1 = first()\n",
    "    index2 = second()\n",
    "    return [index1,index2]\n",
    "\n",
    "nums = [5, 7, 7, 8, 8, 10]\n",
    "target = 8 \n",
    "occurance(nums,target)\n"
   ]
  },
  {
   "cell_type": "markdown",
   "id": "4c226740",
   "metadata": {},
   "source": [
    "# Minimum in rotated sorted array"
   ]
  },
  {
   "cell_type": "code",
   "execution_count": 54,
   "id": "418a172d-327f-4b0c-a674-828324bc7d88",
   "metadata": {},
   "outputs": [
    {
     "data": {
      "text/plain": [
       "0"
      ]
     },
     "execution_count": 54,
     "metadata": {},
     "output_type": "execute_result"
    }
   ],
   "source": [
    "\n",
    "\n",
    "def minimum(arr):\n",
    "    start = 0\n",
    "    end = len(arr)-1\n",
    "    while start < end:\n",
    "        mid = start + (end - start) // 2  \n",
    "        if arr[mid] > arr[end]:\n",
    "            start = mid + 1\n",
    "        else:\n",
    "            end = mid \n",
    "    return arr[start]\n",
    "    \n",
    "\n",
    "arr = [4, 5, 6, 7, 0, 1, 2] \n",
    "minimum(arr)"
   ]
  },
  {
   "cell_type": "markdown",
   "id": "6dbf8adb",
   "metadata": {},
   "source": [
    "# Search in rotated sorted array"
   ]
  },
  {
   "cell_type": "code",
   "execution_count": 55,
   "id": "b52b0d25-2671-4bb7-abc5-44a4bd624e62",
   "metadata": {},
   "outputs": [
    {
     "data": {
      "text/plain": [
       "4"
      ]
     },
     "execution_count": 55,
     "metadata": {},
     "output_type": "execute_result"
    }
   ],
   "source": [
    "\n",
    "def minimum(arr):\n",
    "    start = 0\n",
    "    end = len(arr)-1\n",
    "    while start < end:\n",
    "        mid = start + (end - start) // 2  \n",
    "        if arr[mid] > arr[end]:\n",
    "            start = mid + 1\n",
    "        else:\n",
    "            end = mid \n",
    "    return start\n",
    "    \n",
    "\n",
    "arr = [4, 5, 6, 7, 0, 1, 2] \n",
    "minimum(arr)"
   ]
  },
  {
   "cell_type": "markdown",
   "id": "a07821b7",
   "metadata": {},
   "source": [
    "# List Palindrome Check"
   ]
  },
  {
   "cell_type": "code",
   "execution_count": 60,
   "id": "b0ecf1e9-a27d-4009-ae5e-327378342887",
   "metadata": {},
   "outputs": [
    {
     "name": "stdout",
     "output_type": "stream",
     "text": [
      "True\n"
     ]
    }
   ],
   "source": [
    "lst = [5,3,1,1,3,5] \n",
    "lst1 = lst.copy()\n",
    "n = len(lst1)\n",
    "\n",
    "for i in range(0,len(lst1)//2):\n",
    "    lst1[n-i-1],lst[i] = lst[i], lst[n-i-1]\n",
    "\n",
    "if lst1 == lst:\n",
    "    print(True)\n",
    "else:\n",
    "    print(False)\n",
    "    \n"
   ]
  },
  {
   "cell_type": "markdown",
   "id": "e3774457",
   "metadata": {},
   "source": [
    "# Reverse a list"
   ]
  },
  {
   "cell_type": "code",
   "execution_count": 64,
   "id": "7f775e72-d2f8-4075-8f60-de876cf09697",
   "metadata": {},
   "outputs": [
    {
     "name": "stdout",
     "output_type": "stream",
     "text": [
      "[1, 1, 3, 5]\n"
     ]
    }
   ],
   "source": [
    "lst = [5,3,1,1]\n",
    "n = len(lst)\n",
    "s = []\n",
    "for i in range(n-1,-1,-1):\n",
    "    s.append(lst[i])\n",
    "print(s)"
   ]
  },
  {
   "cell_type": "markdown",
   "id": "406019b5",
   "metadata": {},
   "source": [
    "# Add one to list"
   ]
  },
  {
   "cell_type": "code",
   "execution_count": 71,
   "id": "773ddb06-f261-4ad4-b670-31c9a5d60fb4",
   "metadata": {},
   "outputs": [
    {
     "data": {
      "text/plain": [
       "[1, 0, 0, 0, 0]"
      ]
     },
     "execution_count": 71,
     "metadata": {},
     "output_type": "execute_result"
    }
   ],
   "source": [
    "lst = [9,9,9,9] \n",
    "def add_one(arr):\n",
    "    n = len(lst)\n",
    "    for i in range(n-1,-1,-1):\n",
    "        if lst[i] < 9:\n",
    "            lst[i] = lst[i] + 1 \n",
    "            return lst\n",
    "        lst[i] = 0\n",
    "    return [1] + lst\n",
    "add_one(lst)        "
   ]
  },
  {
   "cell_type": "markdown",
   "id": "517d3d6a",
   "metadata": {},
   "source": [
    "# pascals triangle"
   ]
  },
  {
   "cell_type": "code",
   "execution_count": 79,
   "id": "20f2b92c-50ba-4aa9-92f0-a4040d43477d",
   "metadata": {},
   "outputs": [
    {
     "name": "stdout",
     "output_type": "stream",
     "text": [
      "\n",
      "1 \n",
      "1 2 \n"
     ]
    }
   ],
   "source": [
    "\n",
    "def generate(numRows):\n",
    "    \"\"\"\n",
    "    Function to generate the first numRows of Pascal's triangle.\n",
    "    :param numRows: int -> Number of rows of Pascal's triangle to generate\n",
    "    :return: List[List[int]] -> The first numRows of Pascal's triangle\n",
    "    \"\"\"\n",
    "    n = numRows\n",
    "    \n",
    "    for rows in range(1, n+1):\n",
    "        c = 1\n",
    "        for i in range(1,rows):\n",
    "            print(c, end = \" \")\n",
    "            c = c * (rows - i) // i \n",
    "\n",
    "        print()\n",
    "\n",
    "\n",
    "\n",
    "numRows = 3 \n",
    "generate(numRows)"
   ]
  },
  {
   "cell_type": "markdown",
   "id": "4a8eff1e",
   "metadata": {},
   "source": [
    "# Rotate by 90 degree"
   ]
  },
  {
   "cell_type": "code",
   "execution_count": 90,
   "id": "41a26b2d-ba9c-4037-9f2c-d03cfb0e5c31",
   "metadata": {},
   "outputs": [
    {
     "name": "stdout",
     "output_type": "stream",
     "text": [
      "[[1, 4, 7], [2, 5, 8], [3, 6, 9]]\n",
      "[[7, 4, 1], [8, 5, 2], [9, 6, 3]]\n"
     ]
    }
   ],
   "source": [
    "matrix = [[1, 2, 3],\n",
    "          [4, 5, 6],\n",
    "          [7, 8, 9]]\n",
    "\n",
    "n = len(matrix)\n",
    "for i in range(len(matrix)):\n",
    "    for j in range(i,len(matrix)):\n",
    "        matrix[i][j] ,matrix[j][i] = matrix[j][i], matrix[i][j]\n",
    "print(matrix)\n",
    "\n",
    "for rows in matrix:\n",
    "    rows.reverse()\n",
    "\n",
    "print(matrix)\n",
    "          "
   ]
  },
  {
   "cell_type": "markdown",
   "id": "5923cf51",
   "metadata": {},
   "source": [
    "# Is array sorted"
   ]
  },
  {
   "cell_type": "code",
   "execution_count": 92,
   "id": "9f180971-cae1-4324-b38c-35e0e57e6494",
   "metadata": {},
   "outputs": [
    {
     "name": "stdout",
     "output_type": "stream",
     "text": [
      "[[3, 2, 1], [6, 5, 4], [9, 8, 7]]\n"
     ]
    }
   ],
   "source": [
    "def rotate(matrix):\n",
    "    \"\"\"\n",
    "    Function to rotate the matrix 90 degrees clockwise.\n",
    "    :param matrix: List[List[int]] -> 2D list representing the matrix\n",
    "    :return: None -> Modifies the matrix in-place\n",
    "    \"\"\"\n",
    "    # TODO: Implement this function\n",
    "    n = len(matrix)\n",
    "    \n",
    "    for i in range(n):\n",
    "        for j in range(n):\n",
    "            matrix[i][j], matrix[j][i] = matrix[j][i], matrix[i][j]\n",
    "    \n",
    "    for rows in matrix:\n",
    "        rows.reverse()\n",
    "    \n",
    "    print(matrix)\n",
    "matrix = [[1, 2, 3],\n",
    "          [4, 5, 6],\n",
    "          [7, 8, 9]]\n",
    "rotate(matrix)\n"
   ]
  },
  {
   "cell_type": "code",
   "execution_count": 94,
   "id": "ea2bc5a7-9a1b-47c6-81c1-8f1edc233204",
   "metadata": {},
   "outputs": [
    {
     "name": "stdout",
     "output_type": "stream",
     "text": [
      "[[7, 4, 1], [8, 5, 2], [9, 6, 3]]\n"
     ]
    }
   ],
   "source": [
    "matrix = [[1, 2, 3],\n",
    "          [4, 5, 6],\n",
    "          [7, 8, 9]]\n",
    "matrix = [list(row) for row in zip(*matrix[::-1])]\n",
    "print(matrix)"
   ]
  }
 ],
 "metadata": {
  "kernelspec": {
   "display_name": "Python 3 (ipykernel)",
   "language": "python",
   "name": "python3"
  },
  "language_info": {
   "codemirror_mode": {
    "name": "ipython",
    "version": 3
   },
   "file_extension": ".py",
   "mimetype": "text/x-python",
   "name": "python",
   "nbconvert_exporter": "python",
   "pygments_lexer": "ipython3",
   "version": "3.10.12"
  }
 },
 "nbformat": 4,
 "nbformat_minor": 5
}
