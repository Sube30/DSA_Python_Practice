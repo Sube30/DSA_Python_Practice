{
 "cells": [
  {
   "cell_type": "code",
   "execution_count": 8,
   "id": "55646653-b799-4154-97ec-34b0c4c011b6",
   "metadata": {},
   "outputs": [
    {
     "name": "stdout",
     "output_type": "stream",
     "text": [
      "['*****', '*****', '*****', '*****', '*****']\n"
     ]
    }
   ],
   "source": [
    "def generate_square(n):\n",
    "    \"\"\"\n",
    "    Function to return a square pattern of '*' of side n as a list of strings.\n",
    "    \n",
    "    Parameters:\n",
    "    n (int): The size of the square.\n",
    "    \n",
    "    Returns:\n",
    "    list: A list of strings where each string represents a row of the square.\n",
    "    \"\"\"\n",
    "    if n<=0:\n",
    "        return []\n",
    "    res = ['*'*n for _ in range(n)]\n",
    "    print(res)\n",
    "generate_square(5)       "
   ]
  },
  {
   "cell_type": "code",
   "execution_count": 15,
   "id": "2d37f5b7-51c4-4622-b201-c8bd18826d6a",
   "metadata": {},
   "outputs": [
    {
     "name": "stdout",
     "output_type": "stream",
     "text": [
      "['*****', '*   *', '*   *', '*   *', '*****']\n"
     ]
    }
   ],
   "source": [
    "#Input: 5\n",
    "#Output: ['*****', '*   *', '*   *', '*   *', '*****']\n",
    "\n",
    "def generate_square(n):\n",
    "    \"\"\"\n",
    "    Function to return a square pattern of '*' of side n as a list of strings.\n",
    "    \n",
    "    Parameters:\n",
    "    n (int): The size of the square.\n",
    "    \n",
    "    Returns:\n",
    "    list: A list of strings where each string represents a row of the square.\n",
    "    \"\"\"\n",
    "    res = []\n",
    "    for i in range(n):\n",
    "        if i == 0 or i == (n-1):\n",
    "            res.append('*'*n)\n",
    "        else:\n",
    "            res.append('*'+' '*(n-2)+'*')\n",
    "\n",
    "    \n",
    "    print(res)\n",
    "generate_square(5)   \n"
   ]
  },
  {
   "cell_type": "code",
   "execution_count": 18,
   "id": "769ba1b0-620f-4d9c-9e43-560072d36864",
   "metadata": {},
   "outputs": [
    {
     "data": {
      "text/plain": [
       "['*****', '*****', '*****', '*****']"
      ]
     },
     "execution_count": 18,
     "metadata": {},
     "output_type": "execute_result"
    }
   ],
   "source": [
    "'''\n",
    "You are given two integers, n and m. Your task is to return a rectangle pattern of '*', where n represents the number of rows (length) and m represents the number of columns (breadth).\n",
    "Input:\n",
    "Two integers n and m, where 1 <= n, m <= 100.\n",
    "Output:\n",
    "A list of strings where each string represents a row of the rectangle pattern.\n",
    "'''\n",
    "\n",
    "def generate_rectangle(n, m):\n",
    "    \"\"\"\n",
    "    Function to return a rectangle pattern of '*' with length n and breadth m as a list of strings.\n",
    "    \n",
    "    Parameters:\n",
    "    n (int): The number of rows in the rectangle.\n",
    "    m (int): The number of columns in the rectangle.\n",
    "    \n",
    "    Returns:\n",
    "    list: A list of strings where each string represents a row of the rectangle pattern.\n",
    "    Input: n = 4, m = 5\n",
    "    Output: ['*****', '*****', '*****', '*****']\n",
    "    \"\"\"\n",
    "    if n <=0:\n",
    "        return []\n",
    "    return ['*'*m for _ in range(n)]\n",
    "\n",
    "\n",
    "generate_rectangle(4, 5)"
   ]
  },
  {
   "cell_type": "code",
   "execution_count": 47,
   "id": "88a2ce25-fb8c-42fc-ba55-f1b15612d503",
   "metadata": {},
   "outputs": [
    {
     "data": {
      "text/plain": [
       "['1', '22', '333', '4444', '55555']"
      ]
     },
     "execution_count": 47,
     "metadata": {},
     "output_type": "execute_result"
    }
   ],
   "source": [
    "#right angled traingle\n",
    "\n",
    "def generate_triangle(n):\n",
    "    \"\"\"\n",
    "    Function to return a right-angled triangle of '*' of side n as a list of strings.\n",
    "    \n",
    "    Parameters:\n",
    "    n (int): The height and base of the triangle.\n",
    "    \n",
    "    Returns:\n",
    "    list: A list of strings where each string represents a row of the triangle.\n",
    "    \"\"\"\n",
    "    if n <= 0:\n",
    "        return []\n",
    "    return [str(i)*i for i in range(1,n+1)]\n",
    "generate_triangle(5)"
   ]
  },
  {
   "cell_type": "code",
   "execution_count": 44,
   "id": "541001af-56d2-4fcd-98ba-d007b0938887",
   "metadata": {},
   "outputs": [
    {
     "name": "stdout",
     "output_type": "stream",
     "text": [
      "['*******', ' ***** ', '  ***  ', '   *   ']\n"
     ]
    }
   ],
   "source": [
    "'''\n",
    "You are given an integer n. Your task is to return a pyramid pattern of '*' where each side has n rows, represented as a list of strings. The pyramid is centered, with 1 star in the first row, 3 stars in the second row, and so on, increasing by 2 stars per row until the base row has 2n - 1 stars.\n",
    "\n",
    "\n",
    "'''\n",
    "def generate_pyramid(n):\n",
    "    \"\"\"\n",
    "    Function to return a pyramid pattern of '*' of side n as a list of strings.\n",
    "    \n",
    "    Parameters:\n",
    "    n (int): The number of rows in the pyramid.\n",
    "    \n",
    "    Returns:\n",
    "    list: A list of strings where each string represents a row of the pyramid.\n",
    "    \"\"\"\n",
    "    pyramid = []\n",
    "    for i in range(n,0,-1):\n",
    "        spaces = (n-i) * ' '\n",
    "        stars = (2*i-1) *'*' \n",
    "        pyramid.append(spaces+stars+spaces)\n",
    "    print(pyramid)\n",
    "generate_pyramid(4)"
   ]
  },
  {
   "cell_type": "code",
   "execution_count": 3,
   "id": "f98d0efe-d178-4d91-81aa-f21f5b7eb2ae",
   "metadata": {},
   "outputs": [
    {
     "data": {
      "text/plain": [
       "7"
      ]
     },
     "execution_count": 3,
     "metadata": {},
     "output_type": "execute_result"
    }
   ],
   "source": [
    "def max_consecutive_difference(lst):\n",
    "    # Your code goes here\n",
    "    if len(lst)==0:\n",
    "        return []\n",
    "    max = abs(lst[0]-lst[1])\n",
    "    for i in range(2,len(lst)):\n",
    "        current = abs(lst[i]-lst[i-1])\n",
    "        if current > max:\n",
    "            max = current\n",
    "    return max\n",
    "\n",
    "lst= [1,7,3,10,5]\n",
    "max_consecutive_difference(lst)"
   ]
  },
  {
   "cell_type": "code",
   "execution_count": 8,
   "id": "759a5566-15bc-464b-bdaa-9f0f7c9e628b",
   "metadata": {},
   "outputs": [
    {
     "data": {
      "text/plain": [
       "[1, 2, 3, 4, 5, 6]"
      ]
     },
     "execution_count": 8,
     "metadata": {},
     "output_type": "execute_result"
    }
   ],
   "source": [
    "def merge_two_sorted_lists(list1, list2):\n",
    "    list3 = list1+list2\n",
    "    list3.sort()\n",
    "    return list3\n",
    "            \n",
    "\n",
    "list1 = [1, 3, 5]\n",
    "list2 = [2, 4, 6]\n",
    "merge_two_sorted_lists(list1, list2)"
   ]
  },
  {
   "cell_type": "code",
   "execution_count": 13,
   "id": "84ca185b-fa29-4780-ae48-cb45ef491ab6",
   "metadata": {},
   "outputs": [
    {
     "data": {
      "text/plain": [
       "[1, 2, 3, 4, 5, 6]"
      ]
     },
     "execution_count": 13,
     "metadata": {},
     "output_type": "execute_result"
    }
   ],
   "source": [
    "def merge_two_sorted_lists(list1, list2):\n",
    "    i = 0\n",
    "    j =0\n",
    "    result = []\n",
    "    while i<len(list1) and j<len(list2):\n",
    "        if list1[i]<list2[j]:\n",
    "            result.append(list1[i])\n",
    "            i+=1\n",
    "        elif list1[i] > list2[j]:\n",
    "            result.append(list2[j])\n",
    "            j+=1\n",
    "    while i < len(list1):\n",
    "            result.append(list1[i])\n",
    "            i+=1\n",
    "    while j < len(list2):\n",
    "        result.append(list2[j])\n",
    "        j+=1\n",
    "    return result\n",
    "\n",
    "list1 = [1, 3, 5]\n",
    "list2 = [2, 4, 6]\n",
    "merge_two_sorted_lists(list1, list2)"
   ]
  },
  {
   "cell_type": "code",
   "execution_count": 18,
   "id": "406fc8ad-c291-45f2-9bd3-c2310df3d23a",
   "metadata": {},
   "outputs": [
    {
     "data": {
      "text/plain": [
       "[3, 4, 5, 1, 2]"
      ]
     },
     "execution_count": 18,
     "metadata": {},
     "output_type": "execute_result"
    }
   ],
   "source": [
    "def rotate_list(arr, k):\n",
    "    n = len(lst)\n",
    "    reverse(0,k-1,arr)\n",
    "    reverse(k,n-1,arr)\n",
    "    reverse(0,n-1,arr)\n",
    "    return arr\n",
    "\n",
    "def reverse(start,end,arr):\n",
    "    while start < end:\n",
    "        arr[start],arr[end] = arr[end], arr[start]\n",
    "        start+=1\n",
    "        end-=1\n",
    "    \n",
    "\n",
    "\n",
    "lst = [1, 2, 3, 4, 5]\n",
    "k = 2\n",
    "rotate_list(lst, k)"
   ]
  },
  {
   "cell_type": "code",
   "execution_count": 23,
   "id": "b4125ab7-5f0f-4ecd-8a13-570858f7a9fa",
   "metadata": {},
   "outputs": [
    {
     "data": {
      "text/plain": [
       "[2, 3, 4, 5, 1]"
      ]
     },
     "execution_count": 23,
     "metadata": {},
     "output_type": "execute_result"
    }
   ],
   "source": [
    "def rotate_list(arr, k):\n",
    "    n = len(lst)\n",
    "    if not lst:\n",
    "        return []\n",
    "    k = k %  n\n",
    "    for i in range(k):\n",
    "        last_element = lst.pop()\n",
    "        lst.insert(0, last_element)\n",
    "    return lst\n",
    "\n",
    "\n",
    "\n",
    "lst = [1, 2, 3, 4, 5]\n",
    "k = 4\n",
    "rotate_list(lst, k)"
   ]
  },
  {
   "cell_type": "code",
   "execution_count": 36,
   "id": "4cb2958e-0001-45e1-b5ce-827fd05a7346",
   "metadata": {},
   "outputs": [
    {
     "name": "stdout",
     "output_type": "stream",
     "text": [
      "{'a': 1, 'b': 2, 'c': 3, 'd': 4, 'e': 5, 'f': 6}\n"
     ]
    }
   ],
   "source": [
    "a = {'a': 1, 'b': 2}\n",
    "b = {'c': 3, 'd': 4}\n",
    "c = {'e': 5, 'f': 6}\n",
    "a.update(b)\n",
    "a.update(c)\n",
    "print(a)"
   ]
  },
  {
   "cell_type": "code",
   "execution_count": null,
   "id": "18961520-794b-48b4-991d-30bc28fdf655",
   "metadata": {},
   "outputs": [],
   "source": []
  }
 ],
 "metadata": {
  "kernelspec": {
   "display_name": "Python 3 (ipykernel)",
   "language": "python",
   "name": "python3"
  },
  "language_info": {
   "codemirror_mode": {
    "name": "ipython",
    "version": 3
   },
   "file_extension": ".py",
   "mimetype": "text/x-python",
   "name": "python",
   "nbconvert_exporter": "python",
   "pygments_lexer": "ipython3",
   "version": "3.10.12"
  }
 },
 "nbformat": 4,
 "nbformat_minor": 5
}
