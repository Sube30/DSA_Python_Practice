{
 "cells": [
  {
   "cell_type": "markdown",
   "id": "bfabc785",
   "metadata": {},
   "source": [
    "# Password Strength Checker¶\n",
    "\n",
    "    "
   ]
  },
  {
   "cell_type": "code",
   "execution_count": null,
   "id": "27905d20",
   "metadata": {},
   "outputs": [],
   "source": [
    "def is_strong_password(pwd):\n",
    "    if len(pwd) < 8:\n",
    "        return False\n",
    "    if (not any(char.islower() for char in pwd)):\n",
    "        return False\n",
    "    if (not any(char.isdigit() for char in pwd)):\n",
    "        return False\n",
    "    if (not any(char.isupper() for char in pwd)):\n",
    "        return False\n",
    "    if (not any(char in '!@#$%^&*_-' for char in pwd)):\n",
    "        return False \n",
    "    return True\n",
    "\n",
    "print(is_strong_password(\"WeakPwd\"))\n",
    "print(is_strong_password(\"Str0ngPwd!\"))"
   ]
  },
  {
   "cell_type": "markdown",
   "id": "80593fa1",
   "metadata": {},
   "source": [
    "# Calculate the Total Cost Of Items In a Shopping Cart"
   ]
  },
  {
   "cell_type": "code",
   "execution_count": 21,
   "id": "e9ae45af-2fb4-40ef-b1b0-9bfa36c46605",
   "metadata": {},
   "outputs": [
    {
     "name": "stdout",
     "output_type": "stream",
     "text": [
      "5.8999999999999995\n"
     ]
    }
   ],
   "source": [
    "\n",
    "\n",
    "def calculate_total_cost(cart):\n",
    "    total = 0\n",
    "    for item in cart:\n",
    "           total = total + (item['quantity']*item['price'])\n",
    "    return total\n",
    "\n",
    "cart=[\n",
    "    {'name':'Apple','price':0.5,'quantity':4},\n",
    "    {'name':'Banana','price':0.3,'quantity':6},\n",
    "    {'name':'Orange','price':0.7,'quantity':3}\n",
    "\n",
    "]\n",
    "\n",
    "## calling the function\n",
    "total_cost=calculate_total_cost(cart)\n",
    "print(total_cost)"
   ]
  },
  {
   "cell_type": "markdown",
   "id": "9dd552ee",
   "metadata": {},
   "source": [
    "# Check IF a String Is Palindrome"
   ]
  },
  {
   "cell_type": "code",
   "execution_count": 26,
   "id": "c434521b-26f6-414e-a46c-0b82f7493da8",
   "metadata": {},
   "outputs": [
    {
     "name": "stdout",
     "output_type": "stream",
     "text": [
      "True\n",
      "False\n"
     ]
    }
   ],
   "source": [
    "\n",
    "def is_palindrome(str):\n",
    "    str = str.lower().replace(' ','')\n",
    "    if str == str[::-1]:\n",
    "        \n",
    "        return True\n",
    "    return False\n",
    "print(is_palindrome(\"A man a plan a canal Panama\"))\n",
    "print(is_palindrome(\"Hello\"))"
   ]
  },
  {
   "cell_type": "markdown",
   "id": "1ac7ab37",
   "metadata": {},
   "source": [
    "# Calculate the factorials of a number using recursion"
   ]
  },
  {
   "cell_type": "code",
   "execution_count": 27,
   "id": "e027f8e8-4224-4706-a869-e3c356b8ca4b",
   "metadata": {},
   "outputs": [
    {
     "name": "stdout",
     "output_type": "stream",
     "text": [
      "720\n"
     ]
    }
   ],
   "source": [
    "\n",
    "def factorial(n):\n",
    "    if n == 0:\n",
    "        return 1\n",
    "    else:\n",
    "        return n * factorial(n-1)\n",
    "\n",
    "\n",
    "print(factorial(6))"
   ]
  },
  {
   "cell_type": "markdown",
   "id": "743c4087",
   "metadata": {},
   "source": [
    "#  A Function To Read A File and count the frequency of each word"
   ]
  },
  {
   "cell_type": "code",
   "execution_count": 35,
   "id": "86f0874b-71d0-4c42-87b3-271ace731d84",
   "metadata": {},
   "outputs": [
    {
     "name": "stdout",
     "output_type": "stream",
     "text": [
      "{'hi': 2, 'i': 1, 'am': 1, 'fine.': 1, 'how': 2, 'are': 2, 'you': 2, '': 1, 'doing': 1}\n"
     ]
    }
   ],
   "source": [
    "\n",
    "\n",
    "def count_word_frequency(filepath):\n",
    "    word_count = {}\n",
    "    with open(filepath,'r') as file:\n",
    "        for line in file:\n",
    "            words = line.split()\n",
    "            for word in words:\n",
    "                wor = word.strip('!@#$%^&*?( )')\n",
    "                word_count[wor] = word_count.get(wor,0)+1\n",
    "    return word_count\n",
    "        \n",
    "\n",
    "\n",
    "filepath='sample.txt'\n",
    "word_frequency=count_word_frequency(filepath)\n",
    "print(word_frequency)"
   ]
  },
  {
   "cell_type": "markdown",
   "id": "c4de5f35",
   "metadata": {},
   "source": [
    "# Email match"
   ]
  },
  {
   "cell_type": "code",
   "execution_count": 51,
   "id": "137de4b9-d01c-460a-884f-89e860967508",
   "metadata": {},
   "outputs": [
    {
     "name": "stdout",
     "output_type": "stream",
     "text": [
      "True\n",
      "False\n"
     ]
    }
   ],
   "source": [
    "\n",
    "import re\n",
    "def is_valid_email(email):\n",
    "    pattern = r'^[a-zA-Z0-9-.]+@[a-zA-Z]+\\.[a-zA-Z]+$'\n",
    "    return re.match(pattern,email) is not None\n",
    "\n",
    "\n",
    "# Calling the function\n",
    "print(is_valid_email(\"test@example.com\"))  # Output: True\n",
    "print(is_valid_email(\"invalid-email\"))  # Output: False"
   ]
  },
  {
   "cell_type": "markdown",
   "id": "330f4c0a",
   "metadata": {},
   "source": [
    "# convert temperature from Celsius to Fahrenheit."
   ]
  },
  {
   "cell_type": "code",
   "execution_count": 3,
   "id": "fc0ffb99-bc95-43f1-b399-2198920623bd",
   "metadata": {},
   "outputs": [
    {
     "data": {
      "text/plain": [
       "68.0"
      ]
     },
     "execution_count": 3,
     "metadata": {},
     "output_type": "execute_result"
    }
   ],
   "source": [
    "def celsius_to_fahrenheit(C):\n",
    "    \"\"\"\n",
    "    Function to convert temperature from Celsius to Fahrenheit.\n",
    "    \n",
    "    Parameters:\n",
    "    C (float): The temperature in Celsius.\n",
    "    \n",
    "    Returns:\n",
    "    float: The temperature in Fahrenheit.\n",
    "    \"\"\"\n",
    "    F = (9/5 * C) + 32\n",
    "    return F\n",
    "\n",
    "\n",
    "celsius_to_fahrenheit(20)"
   ]
  },
  {
   "cell_type": "markdown",
   "id": "532f5659",
   "metadata": {},
   "source": [
    "# Is Subset"
   ]
  },
  {
   "cell_type": "code",
   "execution_count": 20,
   "id": "6b692830-908f-46bf-80de-665ab86ac939",
   "metadata": {},
   "outputs": [
    {
     "name": "stdout",
     "output_type": "stream",
     "text": [
      "True\n"
     ]
    },
    {
     "data": {
      "text/plain": [
       "True"
      ]
     },
     "execution_count": 20,
     "metadata": {},
     "output_type": "execute_result"
    }
   ],
   "source": [
    "def is_subset(lst1, lst2):\n",
    "    for element in lst1:\n",
    "        found = False\n",
    "        for item in lst2:\n",
    "            if item == element:\n",
    "                found = True\n",
    "                break\n",
    "            return False\n",
    "        if found == True:\n",
    "            return True\n",
    "    return True\n",
    "                \n",
    "lst1 = [1, 2, 3]\n",
    "lst2 = [1, 2, 3, 4, 5]\n",
    "print(set(lst1).issubset(lst2))\n",
    "is_subset(lst1, lst2)"
   ]
  },
  {
   "cell_type": "code",
   "execution_count": null,
   "id": "2da1b7c7-de2b-483d-abf8-bb489b3128a6",
   "metadata": {},
   "outputs": [],
   "source": []
  }
 ],
 "metadata": {
  "kernelspec": {
   "display_name": "Python 3 (ipykernel)",
   "language": "python",
   "name": "python3"
  },
  "language_info": {
   "codemirror_mode": {
    "name": "ipython",
    "version": 3
   },
   "file_extension": ".py",
   "mimetype": "text/x-python",
   "name": "python",
   "nbconvert_exporter": "python",
   "pygments_lexer": "ipython3",
   "version": "3.10.12"
  }
 },
 "nbformat": 4,
 "nbformat_minor": 5
}
